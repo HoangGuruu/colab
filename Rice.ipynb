{
  "cells": [
    {
      "cell_type": "code",
      "execution_count": 5,
      "metadata": {
        "id": "hOVATHz1SeO9"
      },
      "outputs": [],
      "source": [
        "import numpy as np\n",
        "import sklearn\n",
        "import matplotlib.pyplot as plt"
      ]
    },
    {
      "cell_type": "code",
      "execution_count": 1,
      "metadata": {
        "colab": {
          "base_uri": "https://localhost:8080/"
        },
        "id": "21--NUHUSnag",
        "outputId": "12e9b065-971e-4238-81d9-a660a72cc224"
      },
      "outputs": [
        {
          "name": "stdout",
          "output_type": "stream",
          "text": [
            "Mounted at /content/drive\n"
          ]
        }
      ],
      "source": [
        "from google.colab import drive\n",
        "drive.mount('/content/drive')"
      ]
    },
    {
      "cell_type": "code",
      "execution_count": 2,
      "metadata": {
        "colab": {
          "base_uri": "https://localhost:8080/"
        },
        "id": "rrhjrbl4Sqpv",
        "outputId": "2c1e0fb4-d7c0-454e-eb49-ee7eca9767b8"
      },
      "outputs": [
        {
          "name": "stdout",
          "output_type": "stream",
          "text": [
            "/content/drive/.shortcut-targets-by-id/1bl-ENTOUwGj_fLdtVBVgOtQ7_goDg0tT/ai/rices\n"
          ]
        }
      ],
      "source": [
        "cd drive/MyDrive/hoang_colab/rices"
      ]
    },
    {
      "cell_type": "code",
      "execution_count": 3,
      "metadata": {
        "colab": {
          "base_uri": "https://localhost:8080/"
        },
        "id": "5N1jn6Q6Sx8v",
        "outputId": "7a8c9350-c563-4ecb-bc86-ba907058f9b4"
      },
      "outputs": [
        {
          "name": "stdout",
          "output_type": "stream",
          "text": [
            "\u001b[0m\u001b[01;34mArborio\u001b[0m/  \u001b[01;34mIpsala\u001b[0m/  \u001b[01;34mJasmine\u001b[0m/  rice_classification_weight.h5\n"
          ]
        }
      ],
      "source": [
        "ls"
      ]
    },
    {
      "cell_type": "code",
      "execution_count": 7,
      "metadata": {
        "colab": {
          "base_uri": "https://localhost:8080/"
        },
        "id": "J7LcOvsIS8Ju",
        "outputId": "3178d729-c3bd-4c42-a819-e93a4fe01c44"
      },
      "outputs": [
        {
          "name": "stdout",
          "output_type": "stream",
          "text": [
            "['Arborio', 'Ipsala', 'Jasmine']\n",
            "Arborio\n",
            "Ipsala\n",
            "Jasmine\n"
          ]
        }
      ],
      "source": [
        "import cv2\n",
        "from pathlib import Path\n",
        "flower_dataset_folder = '/content/drive/MyDrive/qviet/rices/'\n",
        "classnames = []\n",
        "for path in Path(flower_dataset_folder).iterdir():\n",
        "    if path.is_dir():\n",
        "        classnames.append(str(path).split('/')[-1])\n",
        "print(classnames)\n",
        "X = []\n",
        "y = []\n",
        "for i in range(len(classnames)):\n",
        "  print(classnames[i])\n",
        "  images = list(Path(flower_dataset_folder+classnames[i]).glob('*'))\n",
        "  for image in range(int(0.4*len(images))):\n",
        "    img = cv2.imread(str(images[image]))\n",
        "    img = cv2.resize(img, (128, 128))\n",
        "    img = img.astype('float32')\n",
        "    img = img/255\n",
        "    X.append(img)\n",
        "    y.append(i)"
      ]
    },
    {
      "cell_type": "code",
      "execution_count": 8,
      "metadata": {
        "id": "hp1WKxv3TA9a"
      },
      "outputs": [],
      "source": [
        "from sklearn.model_selection import train_test_split\n",
        "X_train, X_test, y_train, y_test = train_test_split(np.array(X), np.array(y), test_size=0.2)"
      ]
    },
    {
      "cell_type": "code",
      "execution_count": 9,
      "metadata": {
        "id": "SMePE0R_TFR4"
      },
      "outputs": [],
      "source": [
        "from keras.utils import to_categorical\n",
        "y_train = to_categorical(y_train)\n",
        "y_test = to_categorical(y_test)"
      ]
    },
    {
      "cell_type": "code",
      "execution_count": 10,
      "metadata": {
        "colab": {
          "base_uri": "https://localhost:8080/"
        },
        "id": "8-ESigMfTLNE",
        "outputId": "7691b2ef-6c14-438d-c26b-842caf1f3408"
      },
      "outputs": [
        {
          "name": "stdout",
          "output_type": "stream",
          "text": [
            "(192, 128, 128, 3)\n",
            "(48, 128, 128, 3)\n",
            "(192, 3)\n",
            "(48, 3)\n"
          ]
        }
      ],
      "source": [
        "print(X_train.shape)\n",
        "print(X_test.shape)\n",
        "print(y_train.shape)\n",
        "print(y_test.shape)"
      ]
    },
    {
      "cell_type": "code",
      "execution_count": 11,
      "metadata": {
        "colab": {
          "base_uri": "https://localhost:8080/",
          "height": 285
        },
        "id": "BpkPmtWQTNVz",
        "outputId": "ba3c42ae-05f7-4e3e-b996-687290dfc79d"
      },
      "outputs": [
        {
          "name": "stdout",
          "output_type": "stream",
          "text": [
            "[1. 0. 0.]\n"
          ]
        },
        {
          "data": {
            "image/png": "[encoded data removed]",
            "text/plain": [
              "<Figure size 432x288 with 1 Axes>"
            ]
          },
          "metadata": {
            "needs_background": "light"
          },
          "output_type": "display_data"
        }
      ],
      "source": [
        "plt.imshow(X_train[2])\n",
        "print(y_train[2])"
      ]
    },
    {
      "cell_type": "code",
      "execution_count": 12,
      "metadata": {
        "colab": {
          "base_uri": "https://localhost:8080/"
        },
        "id": "22A2z27gTOQy",
        "outputId": "44a5c8d1-5d9e-4713-f5d3-ff434c189285"
      },
      "outputs": [
        {
          "name": "stdout",
          "output_type": "stream",
          "text": [
            "Model: \"sequential\"\n",
            "_________________________________________________________________\n",
            " Layer (type)                Output Shape              Param #   \n",
            "=================================================================\n",
            " conv2d (Conv2D)             (None, 128, 128, 32)      2432      \n",
            "                                                                 \n",
            " max_pooling2d (MaxPooling2D  (None, 64, 64, 32)       0         \n",
            " )                                                               \n",
            "                                                                 \n",
            " conv2d_1 (Conv2D)           (None, 64, 64, 64)        18496     \n",
            "                                                                 \n",
            " max_pooling2d_1 (MaxPooling  (None, 32, 32, 64)       0         \n",
            " 2D)                                                             \n",
            "                                                                 \n",
            " conv2d_2 (Conv2D)           (None, 32, 32, 96)        55392     \n",
            "                                                                 \n",
            " max_pooling2d_2 (MaxPooling  (None, 16, 16, 96)       0         \n",
            " 2D)                                                             \n",
            "                                                                 \n",
            " conv2d_3 (Conv2D)           (None, 16, 16, 96)        83040     \n",
            "                                                                 \n",
            " max_pooling2d_3 (MaxPooling  (None, 8, 8, 96)         0         \n",
            " 2D)                                                             \n",
            "                                                                 \n",
            " flatten (Flatten)           (None, 6144)              0         \n",
            "                                                                 \n",
            " dense (Dense)               (None, 512)               3146240   \n",
            "                                                                 \n",
            " activation (Activation)     (None, 512)               0         \n",
            "                                                                 \n",
            " dense_1 (Dense)             (None, 3)                 1539      \n",
            "                                                                 \n",
            "=================================================================\n",
            "Total params: 3,307,139\n",
            "Trainable params: 3,307,139\n",
            "Non-trainable params: 0\n",
            "_________________________________________________________________\n"
          ]
        }
      ],
      "source": [
        "from keras.models import Sequential, Model\n",
        "from keras import layers\n",
        "from keras.layers import Dense, Dropout, Flatten, Conv2D, MaxPooling2D, Activation\n",
        "model = Sequential()\n",
        "model.add(Conv2D(filters = 32, kernel_size = (5,5),padding = 'Same',activation ='relu',\n",
        "                                       input_shape = X_train[0].shape))\n",
        "model.add(MaxPooling2D(pool_size=(2,2)))\n",
        "\n",
        "\n",
        "model.add(Conv2D(filters = 64, kernel_size = (3,3),padding = 'Same',activation ='relu'))\n",
        "model.add(MaxPooling2D(pool_size=(2,2), strides=(2,2)))\n",
        " \n",
        "\n",
        "model.add(Conv2D(filters =96, kernel_size = (3,3),padding = 'Same',activation ='relu'))\n",
        "model.add(MaxPooling2D(pool_size=(2,2), strides=(2,2)))\n",
        "\n",
        "model.add(Conv2D(filters = 96, kernel_size = (3,3),padding = 'Same',activation ='relu'))\n",
        "model.add(MaxPooling2D(pool_size=(2,2), strides=(2,2)))\n",
        "\n",
        "model.add(Flatten())\n",
        "model.add(Dense(512))\n",
        "model.add(Activation('relu'))\n",
        "model.add(Dense(y_train.shape[1], activation = \"softmax\"))\n",
        "model.summary()"
      ]
    },
    {
      "cell_type": "code",
      "execution_count": 13,
      "metadata": {
        "id": "fB7j8nxQTS9p"
      },
      "outputs": [],
      "source": [
        "import keras\n",
        "model.compile(optimizer=keras.optimizers.Adam(), loss='categorical_crossentropy', metrics=['accuracy'])"
      ]
    },
    {
      "cell_type": "code",
      "execution_count": 14,
      "metadata": {
        "colab": {
          "base_uri": "https://localhost:8080/"
        },
        "id": "5Sx0H5hxTVFU",
        "outputId": "c703527f-d4ac-4222-a77d-460e34888729"
      },
      "outputs": [
        {
          "name": "stdout",
          "output_type": "stream",
          "text": [
            "Epoch 1/100\n",
            "2/2 - 9s - loss: 1.0476 - accuracy: 0.3177 - 9s/epoch - 5s/step\n",
            "Epoch 2/100\n",
            "2/2 - 7s - loss: 0.6095 - accuracy: 0.7760 - 7s/epoch - 4s/step\n",
            "Epoch 3/100\n",
            "2/2 - 7s - loss: 0.6783 - accuracy: 0.7135 - 7s/epoch - 4s/step\n",
            "Epoch 4/100\n",
            "2/2 - 7s - loss: 0.3361 - accuracy: 0.8281 - 7s/epoch - 4s/step\n",
            "Epoch 5/100\n",
            "2/2 - 7s - loss: 0.3383 - accuracy: 0.8385 - 7s/epoch - 4s/step\n",
            "Epoch 6/100\n",
            "2/2 - 9s - loss: 0.2546 - accuracy: 0.9583 - 9s/epoch - 4s/step\n",
            "Epoch 7/100\n",
            "2/2 - 7s - loss: 0.2051 - accuracy: 0.9375 - 7s/epoch - 4s/step\n",
            "Epoch 8/100\n",
            "2/2 - 7s - loss: 0.1269 - accuracy: 0.9844 - 7s/epoch - 4s/step\n",
            "Epoch 9/100\n",
            "2/2 - 7s - loss: 0.0620 - accuracy: 0.9792 - 7s/epoch - 4s/step\n",
            "Epoch 10/100\n",
            "2/2 - 7s - loss: 0.0237 - accuracy: 1.0000 - 7s/epoch - 4s/step\n",
            "Epoch 11/100\n",
            "2/2 - 7s - loss: 0.0133 - accuracy: 0.9948 - 7s/epoch - 4s/step\n",
            "Epoch 12/100\n",
            "2/2 - 7s - loss: 0.0021 - accuracy: 1.0000 - 7s/epoch - 4s/step\n",
            "Epoch 13/100\n",
            "2/2 - 7s - loss: 0.0046 - accuracy: 1.0000 - 7s/epoch - 4s/step\n",
            "Epoch 14/100\n",
            "2/2 - 7s - loss: 0.0015 - accuracy: 1.0000 - 7s/epoch - 4s/step\n",
            "Epoch 15/100\n",
            "2/2 - 7s - loss: 3.9668e-04 - accuracy: 1.0000 - 7s/epoch - 4s/step\n",
            "Epoch 16/100\n",
            "2/2 - 7s - loss: 1.5658e-04 - accuracy: 1.0000 - 7s/epoch - 4s/step\n",
            "Epoch 17/100\n",
            "2/2 - 7s - loss: 8.3468e-04 - accuracy: 1.0000 - 7s/epoch - 4s/step\n",
            "Epoch 18/100\n",
            "2/2 - 7s - loss: 0.0026 - accuracy: 1.0000 - 7s/epoch - 4s/step\n",
            "Epoch 19/100\n",
            "2/2 - 7s - loss: 0.0445 - accuracy: 0.9896 - 7s/epoch - 4s/step\n",
            "Epoch 20/100\n",
            "2/2 - 7s - loss: 0.1654 - accuracy: 0.9688 - 7s/epoch - 4s/step\n",
            "Epoch 21/100\n",
            "2/2 - 7s - loss: 0.0701 - accuracy: 0.9740 - 7s/epoch - 4s/step\n",
            "Epoch 22/100\n",
            "2/2 - 7s - loss: 0.0158 - accuracy: 0.9948 - 7s/epoch - 4s/step\n",
            "Epoch 23/100\n",
            "2/2 - 7s - loss: 0.0411 - accuracy: 0.9844 - 7s/epoch - 4s/step\n",
            "Epoch 24/100\n",
            "2/2 - 7s - loss: 0.0037 - accuracy: 1.0000 - 7s/epoch - 4s/step\n",
            "Epoch 25/100\n",
            "2/2 - 7s - loss: 0.0027 - accuracy: 1.0000 - 7s/epoch - 4s/step\n",
            "Epoch 26/100\n",
            "2/2 - 7s - loss: 0.0206 - accuracy: 0.9948 - 7s/epoch - 4s/step\n",
            "Epoch 27/100\n",
            "2/2 - 7s - loss: 1.4496e-04 - accuracy: 1.0000 - 7s/epoch - 4s/step\n",
            "Epoch 28/100\n",
            "2/2 - 7s - loss: 7.1132e-05 - accuracy: 1.0000 - 7s/epoch - 4s/step\n",
            "Epoch 29/100\n",
            "2/2 - 7s - loss: 0.0023 - accuracy: 1.0000 - 7s/epoch - 4s/step\n",
            "Epoch 30/100\n",
            "2/2 - 7s - loss: 0.0013 - accuracy: 1.0000 - 7s/epoch - 4s/step\n",
            "Epoch 31/100\n",
            "2/2 - 7s - loss: 3.5219e-04 - accuracy: 1.0000 - 7s/epoch - 4s/step\n",
            "Epoch 32/100\n",
            "2/2 - 7s - loss: 3.8347e-04 - accuracy: 1.0000 - 7s/epoch - 4s/step\n",
            "Epoch 33/100\n",
            "2/2 - 8s - loss: 4.4567e-04 - accuracy: 1.0000 - 8s/epoch - 4s/step\n",
            "Epoch 34/100\n",
            "2/2 - 9s - loss: 4.2713e-04 - accuracy: 1.0000 - 9s/epoch - 4s/step\n",
            "Epoch 35/100\n",
            "2/2 - 7s - loss: 3.1009e-04 - accuracy: 1.0000 - 7s/epoch - 4s/step\n",
            "Epoch 36/100\n",
            "2/2 - 7s - loss: 2.2302e-04 - accuracy: 1.0000 - 7s/epoch - 4s/step\n",
            "Epoch 37/100\n",
            "2/2 - 7s - loss: 1.4160e-04 - accuracy: 1.0000 - 7s/epoch - 4s/step\n",
            "Epoch 38/100\n",
            "2/2 - 7s - loss: 1.1029e-04 - accuracy: 1.0000 - 7s/epoch - 4s/step\n",
            "Epoch 39/100\n",
            "2/2 - 7s - loss: 9.1259e-05 - accuracy: 1.0000 - 7s/epoch - 4s/step\n",
            "Epoch 40/100\n",
            "2/2 - 7s - loss: 9.4509e-05 - accuracy: 1.0000 - 7s/epoch - 4s/step\n",
            "Epoch 41/100\n",
            "2/2 - 7s - loss: 9.4058e-05 - accuracy: 1.0000 - 7s/epoch - 4s/step\n",
            "Epoch 42/100\n",
            "2/2 - 7s - loss: 1.0273e-04 - accuracy: 1.0000 - 7s/epoch - 4s/step\n",
            "Epoch 43/100\n",
            "2/2 - 7s - loss: 1.0428e-04 - accuracy: 1.0000 - 7s/epoch - 4s/step\n",
            "Epoch 44/100\n",
            "2/2 - 7s - loss: 1.0304e-04 - accuracy: 1.0000 - 7s/epoch - 4s/step\n",
            "Epoch 45/100\n",
            "2/2 - 7s - loss: 1.0106e-04 - accuracy: 1.0000 - 7s/epoch - 4s/step\n",
            "Epoch 46/100\n",
            "2/2 - 7s - loss: 9.1346e-05 - accuracy: 1.0000 - 7s/epoch - 4s/step\n",
            "Epoch 47/100\n",
            "2/2 - 9s - loss: 8.0605e-05 - accuracy: 1.0000 - 9s/epoch - 4s/step\n",
            "Epoch 48/100\n",
            "2/2 - 7s - loss: 7.1884e-05 - accuracy: 1.0000 - 7s/epoch - 4s/step\n",
            "Epoch 49/100\n",
            "2/2 - 7s - loss: 6.0192e-05 - accuracy: 1.0000 - 7s/epoch - 4s/step\n",
            "Epoch 50/100\n",
            "2/2 - 7s - loss: 4.9106e-05 - accuracy: 1.0000 - 7s/epoch - 4s/step\n",
            "Epoch 51/100\n",
            "2/2 - 7s - loss: 4.5048e-05 - accuracy: 1.0000 - 7s/epoch - 4s/step\n",
            "Epoch 52/100\n",
            "2/2 - 7s - loss: 4.1258e-05 - accuracy: 1.0000 - 7s/epoch - 4s/step\n",
            "Epoch 53/100\n",
            "2/2 - 7s - loss: 3.9015e-05 - accuracy: 1.0000 - 7s/epoch - 4s/step\n",
            "Epoch 54/100\n",
            "2/2 - 7s - loss: 3.7910e-05 - accuracy: 1.0000 - 7s/epoch - 4s/step\n",
            "Epoch 55/100\n",
            "2/2 - 7s - loss: 3.5830e-05 - accuracy: 1.0000 - 7s/epoch - 4s/step\n",
            "Epoch 56/100\n",
            "2/2 - 7s - loss: 3.3061e-05 - accuracy: 1.0000 - 7s/epoch - 4s/step\n",
            "Epoch 57/100\n",
            "2/2 - 7s - loss: 3.1453e-05 - accuracy: 1.0000 - 7s/epoch - 4s/step\n",
            "Epoch 58/100\n",
            "2/2 - 7s - loss: 2.9457e-05 - accuracy: 1.0000 - 7s/epoch - 4s/step\n",
            "Epoch 59/100\n",
            "2/2 - 7s - loss: 2.7697e-05 - accuracy: 1.0000 - 7s/epoch - 4s/step\n",
            "Epoch 60/100\n",
            "2/2 - 7s - loss: 2.6272e-05 - accuracy: 1.0000 - 7s/epoch - 4s/step\n",
            "Epoch 61/100\n",
            "2/2 - 7s - loss: 2.4736e-05 - accuracy: 1.0000 - 7s/epoch - 4s/step\n",
            "Epoch 62/100\n",
            "2/2 - 7s - loss: 2.3454e-05 - accuracy: 1.0000 - 7s/epoch - 4s/step\n",
            "Epoch 63/100\n",
            "2/2 - 7s - loss: 2.2499e-05 - accuracy: 1.0000 - 7s/epoch - 4s/step\n",
            "Epoch 64/100\n",
            "2/2 - 7s - loss: 2.1707e-05 - accuracy: 1.0000 - 7s/epoch - 4s/step\n",
            "Epoch 65/100\n",
            "2/2 - 7s - loss: 2.0870e-05 - accuracy: 1.0000 - 7s/epoch - 4s/step\n",
            "Epoch 66/100\n",
            "2/2 - 7s - loss: 1.9921e-05 - accuracy: 1.0000 - 7s/epoch - 4s/step\n",
            "Epoch 67/100\n",
            "2/2 - 9s - loss: 1.9163e-05 - accuracy: 1.0000 - 9s/epoch - 5s/step\n",
            "Epoch 68/100\n",
            "2/2 - 7s - loss: 1.8238e-05 - accuracy: 1.0000 - 7s/epoch - 4s/step\n",
            "Epoch 69/100\n",
            "2/2 - 7s - loss: 1.7518e-05 - accuracy: 1.0000 - 7s/epoch - 4s/step\n",
            "Epoch 70/100\n",
            "2/2 - 7s - loss: 1.6784e-05 - accuracy: 1.0000 - 7s/epoch - 4s/step\n",
            "Epoch 71/100\n",
            "2/2 - 7s - loss: 1.6274e-05 - accuracy: 1.0000 - 7s/epoch - 4s/step\n",
            "Epoch 72/100\n",
            "2/2 - 7s - loss: 1.6053e-05 - accuracy: 1.0000 - 7s/epoch - 4s/step\n",
            "Epoch 73/100\n",
            "2/2 - 7s - loss: 1.5587e-05 - accuracy: 1.0000 - 7s/epoch - 4s/step\n",
            "Epoch 74/100\n",
            "2/2 - 7s - loss: 1.5108e-05 - accuracy: 1.0000 - 7s/epoch - 4s/step\n",
            "Epoch 75/100\n",
            "2/2 - 7s - loss: 1.4297e-05 - accuracy: 1.0000 - 7s/epoch - 4s/step\n",
            "Epoch 76/100\n",
            "2/2 - 7s - loss: 1.3680e-05 - accuracy: 1.0000 - 7s/epoch - 4s/step\n",
            "Epoch 77/100\n",
            "2/2 - 7s - loss: 1.3337e-05 - accuracy: 1.0000 - 7s/epoch - 4s/step\n",
            "Epoch 78/100\n",
            "2/2 - 7s - loss: 1.3112e-05 - accuracy: 1.0000 - 7s/epoch - 4s/step\n",
            "Epoch 79/100\n",
            "2/2 - 7s - loss: 1.2625e-05 - accuracy: 1.0000 - 7s/epoch - 4s/step\n",
            "Epoch 80/100\n",
            "2/2 - 7s - loss: 1.2158e-05 - accuracy: 1.0000 - 7s/epoch - 4s/step\n",
            "Epoch 81/100\n",
            "2/2 - 7s - loss: 1.1733e-05 - accuracy: 1.0000 - 7s/epoch - 4s/step\n",
            "Epoch 82/100\n",
            "2/2 - 7s - loss: 1.1481e-05 - accuracy: 1.0000 - 7s/epoch - 4s/step\n",
            "Epoch 83/100\n",
            "2/2 - 7s - loss: 1.1119e-05 - accuracy: 1.0000 - 7s/epoch - 4s/step\n",
            "Epoch 84/100\n",
            "2/2 - 7s - loss: 1.0874e-05 - accuracy: 1.0000 - 7s/epoch - 4s/step\n",
            "Epoch 85/100\n",
            "2/2 - 7s - loss: 1.0471e-05 - accuracy: 1.0000 - 7s/epoch - 4s/step\n",
            "Epoch 86/100\n",
            "2/2 - 7s - loss: 1.0163e-05 - accuracy: 1.0000 - 7s/epoch - 4s/step\n",
            "Epoch 87/100\n",
            "2/2 - 7s - loss: 9.9219e-06 - accuracy: 1.0000 - 7s/epoch - 4s/step\n",
            "Epoch 88/100\n",
            "2/2 - 7s - loss: 9.6488e-06 - accuracy: 1.0000 - 7s/epoch - 4s/step\n",
            "Epoch 89/100\n",
            "2/2 - 7s - loss: 9.5041e-06 - accuracy: 1.0000 - 7s/epoch - 4s/step\n",
            "Epoch 90/100\n",
            "2/2 - 7s - loss: 9.2198e-06 - accuracy: 1.0000 - 7s/epoch - 4s/step\n",
            "Epoch 91/100\n",
            "2/2 - 7s - loss: 8.9442e-06 - accuracy: 1.0000 - 7s/epoch - 4s/step\n",
            "Epoch 92/100\n",
            "2/2 - 7s - loss: 8.6258e-06 - accuracy: 1.0000 - 7s/epoch - 4s/step\n",
            "Epoch 93/100\n",
            "2/2 - 7s - loss: 8.7735e-06 - accuracy: 1.0000 - 7s/epoch - 4s/step\n",
            "Epoch 94/100\n",
            "2/2 - 7s - loss: 8.5203e-06 - accuracy: 1.0000 - 7s/epoch - 4s/step\n",
            "Epoch 95/100\n",
            "2/2 - 7s - loss: 8.2627e-06 - accuracy: 1.0000 - 7s/epoch - 4s/step\n",
            "Epoch 96/100\n",
            "2/2 - 7s - loss: 8.0528e-06 - accuracy: 1.0000 - 7s/epoch - 4s/step\n",
            "Epoch 97/100\n",
            "2/2 - 7s - loss: 7.7555e-06 - accuracy: 1.0000 - 7s/epoch - 4s/step\n",
            "Epoch 98/100\n",
            "2/2 - 7s - loss: 7.5555e-06 - accuracy: 1.0000 - 7s/epoch - 4s/step\n",
            "Epoch 99/100\n",
            "2/2 - 7s - loss: 7.4413e-06 - accuracy: 1.0000 - 7s/epoch - 4s/step\n",
            "Epoch 100/100\n",
            "2/2 - 7s - loss: 7.3630e-06 - accuracy: 1.0000 - 7s/epoch - 4s/step\n"
          ]
        }
      ],
      "source": [
        "history = model.fit(X_train, y_train, epochs=100, batch_size=128, verbose=2)"
      ]
    },
    {
      "cell_type": "code",
      "execution_count": 15,
      "metadata": {
        "colab": {
          "base_uri": "https://localhost:8080/"
        },
        "id": "foyFmin0TacY",
        "outputId": "a5427a1c-8d3a-4b70-90d8-a758b41a63cc"
      },
      "outputs": [
        {
          "name": "stdout",
          "output_type": "stream",
          "text": [
            "2/2 [==============================] - 1s 183ms/step - loss: 0.0230 - accuracy: 0.9792\n"
          ]
        },
        {
          "data": {
            "text/plain": [
              "[0.02295759506523609, 0.9791666865348816]"
            ]
          },
          "execution_count": 15,
          "metadata": {},
          "output_type": "execute_result"
        }
      ],
      "source": [
        "model.evaluate(X_test, y_test)"
      ]
    },
    {
      "cell_type": "code",
      "execution_count": 16,
      "metadata": {
        "colab": {
          "base_uri": "https://localhost:8080/",
          "height": 295
        },
        "id": "Ifbc7cwfTb4R",
        "outputId": "e389afa8-bbac-4b5b-d390-d5771a2a958c"
      },
      "outputs": [
        {
          "data": {
            "image/png": "[encoded data removed]",
            "text/plain": [
              "<Figure size 432x288 with 1 Axes>"
            ]
          },
          "metadata": {
            "needs_background": "light"
          },
          "output_type": "display_data"
        }
      ],
      "source": [
        "# plt.figure(1)\n",
        "plt.plot(history.history['loss'], label='training loss')\n",
        "plt.plot(history.history['accuracy'], label='accuracy')\n",
        "plt.title('Loss')\n",
        "plt.xlabel('epochs')\n",
        "plt.ylabel('loss')\n",
        "plt.legend()\n",
        "plt.show()"
      ]
    },
    {
      "cell_type": "code",
      "execution_count": 17,
      "metadata": {
        "id": "gTHZwVrbTeG_"
      },
      "outputs": [],
      "source": [
        "n = 0"
      ]
    },
    {
      "cell_type": "code",
      "execution_count": 18,
      "metadata": {
        "colab": {
          "base_uri": "https://localhost:8080/",
          "height": 337
        },
        "id": "CECfm7ZnTfn7",
        "outputId": "c95fcc6f-0d9e-4afd-d34f-f3bd428b10cf"
      },
      "outputs": [
        {
          "name": "stdout",
          "output_type": "stream",
          "text": [
            "(128, 128, 3)\n",
            "1/1 [==============================] - 0s 129ms/step\n",
            "Pred:  Arborio\n",
            "True label:  Arborio\n"
          ]
        },
        {
          "data": {
            "image/png": "[encoded data removed]",
            "text/plain": [
              "<Figure size 432x288 with 1 Axes>"
            ]
          },
          "metadata": {
            "needs_background": "light"
          },
          "output_type": "display_data"
        }
      ],
      "source": [
        "# n = 0\n",
        "n+=1\n",
        "print(X_test[n].shape)\n",
        "plt.imshow(X_test[n])\n",
        "pred = model.predict(X_test[n].reshape(1, 128, 128, 3))\n",
        "print('Pred: ', classnames[pred.argmax()])\n",
        "print('True label: ', classnames[y_test[n].argmax()])"
      ]
    },
    {
      "cell_type": "code",
      "execution_count": 20,
      "metadata": {
        "colab": {
          "base_uri": "https://localhost:8080/",
          "height": 337
        },
        "id": "aSxGa1MXW05n",
        "outputId": "5d60e8f7-0bfa-48ef-aa73-65937abf46e5"
      },
      "outputs": [
        {
          "name": "stdout",
          "output_type": "stream",
          "text": [
            "(128, 128, 3)\n",
            "1/1 [==============================] - 0s 29ms/step\n",
            "Pred:  Arborio\n",
            "True label:  Arborio\n"
          ]
        },
        {
          "data": {
            "image/png": "[encoded data removed]",
            "text/plain": [
              "<Figure size 432x288 with 1 Axes>"
            ]
          },
          "metadata": {
            "needs_background": "light"
          },
          "output_type": "display_data"
        }
      ],
      "source": [
        "n = 2\n",
        "n+=1\n",
        "print(X_test[n].shape)\n",
        "plt.imshow(X_test[n])\n",
        "pred = model.predict(X_test[n].reshape(1, 128, 128, 3))\n",
        "print('Pred: ', classnames[pred.argmax()])\n",
        "print('True label: ', classnames[y_test[n].argmax()])"
      ]
    }
  ],
  "metadata": {
    "colab": {
      "collapsed_sections": [],
      "provenance": []
    },
    "kernelspec": {
      "display_name": "Python 3",
      "name": "python3"
    },
    "language_info": {
      "name": "python"
    }
  },
  "nbformat": 4,
  "nbformat_minor": 0
}
